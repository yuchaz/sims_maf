{
 "cells": [
  {
   "cell_type": "markdown",
   "metadata": {},
   "source": [
    "## Index ##\n",
    "\n",
    "This notebook serves as an 'index' to the other sims_maf tutorials, providing a short description of their contents. \n",
    "\n",
    "---\n",
    "\n",
    "### Installing and updating MAF ### \n",
    "If you have not installed the LSST software stack and sims_maf (an LSST software package), please follow the instructions at https://confluence.lsstcorp.org/display/SIM/Catalogs+and+MAF\n",
    "\n",
    "---\n",
    "\n",
    "Note that all of these tutorials expect sims_maf to be setup in your shell, and it must be sims_maf version 1.1 or better.  \n",
    "\n",
    "To check which version of sims_maf you are using, you can enter the following commands at a python prompt:\n",
    ">`import lsst.sims.maf`<br>\n",
    ">`lsst.sims.maf.__version__`\n",
    "\n"
   ]
  },
  {
   "cell_type": "markdown",
   "metadata": {},
   "source": [
    "---\n",
    "\n",
    "## Tutorials: Start here ##\n",
    "\n",
    "If you are new to ipython notebooks and uncertain if your environment is set up correctly, you may find it helpful to start with the [TestNotebook](./TestNotebook.ipynb). In this notebook, you can see how the basic ipython environment works. \n",
    "\n",
    "Start with the [Introduction](./Introduction%20Notebook.ipynb) to start using MAF with a hands-on example. If you want some overview slides, we also have an [introductory talk](https://github.com/LSST-nonproject/sims_maf_contrib/blob/master/workshops/UK_2015/Cambridge_MAFIntro.pdf). \n",
    "\n",
    "To learn about various slicer options, look at the [Slicers](./Slicers.ipynb) notebook."
   ]
  },
  {
   "cell_type": "markdown",
   "metadata": {
    "collapsed": true
   },
   "source": [
    "## More advanced capabilities##\n",
    "\n",
    "[Stackers](./Stackers.ipynb) Example of using Stackers to generate new columns on-the-fly for each opsim visit (for example, adding \"Hour Angle\"). The [Dithers](./Dithers.ipynb) notebook may also be useful to understand stackers.\n",
    "\n",
    "[Plotting Examples](./Plotting Examples.ipynb) Examples of generating metric data and then using this to create many different kinds of plots. This illustrates using the plotHandler class, as well as plotting data directly from a metricBundle.\n",
    "\n",
    "[Dithers](./Dithers.ipynb) This notebook demonstrates the different dithering patterns available within MAF. It also shows more examples of generating plots, with the plotHandler class as well as directly with metricBundles. It also introduces the use of metric data outside of the MAF metricBundle, including read data back from disk. There are lots of concepts used in this notebook (we'll split it up eventually). \n",
    "\n",
    "[MAFCameraGeom](./MAFCameraGeom.ipynb) In this notebook we demonstrate using the MAF camera footprint geometry - that is, including the chipgaps and realistic focal plane in your metric calculations. \n",
    "\n",
    "[Complex Metrics](./Complex Metrics.ipynb) This notebook illustrates using a 'complex' metric - that is, a metric which calculates more than one value at a time. \n",
    "\n",
    "[Compare Runs](./Compare Runs.ipynb) This notebook looks at how you can grab summary statistic data from the results databases of multiple opsim runs (where you've already calculated metrics and generated summary statistics). With the summary statistics you could compare (for example) the number of visits or the mean proper motion accuracy, from many different simulated surveys. \n",
    "\n",
    "[Writing a New Metric](./Writing A New Metric.ipynb) If it's time to write your own metric, this is where you'll find a demonstration of how to do it.\n",
    "\n",
    "[Exploring Light Curves](./PullLightCurves.ipynb) Often, one just wants to see what an LSST light curve will look like. This example pulls all the observations from a single ra,dec position and plots possible SNe light curves for taht point.\n",
    "\n",
    "[Chip Names](./ChipNames.ipynb) In this notebook, we simulate and visualize the observation with only half of rafts from the camera geometry are selected.\n",
    "\n",
    "[SDSS Slicer](./SDSSSlicer.ipynb) This notebook shows the ability of using MAF on observations of different surveys. We use the data from SDSS for this example.\n",
    "\n",
    "[Sequence Visualization](./SequenceViz.ipynb) In this notebook, we visualize sequences of observations from a spot in the sky.\n",
    "\n",
    "[Slicers](./Slicers.ipynb) This notebook provides several examples of the most commonly used slicers and their features.\n",
    "\n",
    "[Spatial Coordinates](./Spatial_Coordinates.ipynb) In this notebook, we visualize the observations in difference coordinate systems using `HealpixSlicer`.\n",
    "\n",
    "[Hybrid Camera Geometry Studies](./HybridCameraGeomStudies.ipynb) This notebook shows how much sky do we cover as a function of time for a given hybrid focal plane layout.\n",
    "\n",
    "[Getting MAF Help](./Getting_MAF_Help.ipynb) This notebook is a collection of snippets of how to get help on the various bits of the MAF ecosystem. Using `help` should give clarity to the parameters used in associated functions. \n",
    "\n",
    "[Transient Metric](./TransientMetric.ipynb) This notebook demonstrates the transient metric. For this metric, one can set the light curve shape and detection threshold (e.g., one detection, demand a detection on the rise, demand multiple filters, etc). The metric then computes what fraction of sources would meet the detection criteria if the object was continually exploding throughout the survey.\n",
    "\n",
    "[Vector Metrics](./VectorMetrics.ipynb) Vector metrics are designed to help visualize the time evolution of the survey.\n",
    "\n"
   ]
  },
  {
   "cell_type": "code",
   "execution_count": null,
   "metadata": {
    "collapsed": true
   },
   "outputs": [],
   "source": []
  }
 ],
 "metadata": {
  "kernelspec": {
   "display_name": "Python 3",
   "language": "python",
   "name": "python3"
  },
  "language_info": {
   "codemirror_mode": {
    "name": "ipython",
    "version": 3
   },
   "file_extension": ".py",
   "mimetype": "text/x-python",
   "name": "python",
   "nbconvert_exporter": "python",
   "pygments_lexer": "ipython3",
   "version": "3.6.1"
  }
 },
 "nbformat": 4,
 "nbformat_minor": 1
}
